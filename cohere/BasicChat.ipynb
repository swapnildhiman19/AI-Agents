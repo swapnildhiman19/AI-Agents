{
 "cells": [
  {
   "cell_type": "code",
   "execution_count": 1,
   "id": "d55d3b73",
   "metadata": {},
   "outputs": [
    {
     "name": "stdout",
     "output_type": "stream",
     "text": [
      "Requirement already satisfied: python-dotenv in /Users/s0d0bla/miniconda3/envs/hello/lib/python3.10/site-packages (1.1.1)\n",
      "Collecting cohere\n",
      "  Downloading cohere-5.16.1-py3-none-any.whl.metadata (3.4 kB)\n",
      "Collecting fastavro<2.0.0,>=1.9.4 (from cohere)\n",
      "  Downloading fastavro-1.11.1-cp310-cp310-macosx_10_9_universal2.whl.metadata (5.5 kB)\n",
      "Requirement already satisfied: httpx>=0.21.2 in /Users/s0d0bla/miniconda3/envs/hello/lib/python3.10/site-packages (from cohere) (0.28.1)\n",
      "Collecting httpx-sse==0.4.0 (from cohere)\n",
      "  Downloading httpx_sse-0.4.0-py3-none-any.whl.metadata (9.0 kB)\n",
      "Requirement already satisfied: pydantic>=1.9.2 in /Users/s0d0bla/miniconda3/envs/hello/lib/python3.10/site-packages (from cohere) (2.11.7)\n",
      "Requirement already satisfied: pydantic-core<3.0.0,>=2.18.2 in /Users/s0d0bla/miniconda3/envs/hello/lib/python3.10/site-packages (from cohere) (2.33.2)\n",
      "Requirement already satisfied: requests<3.0.0,>=2.0.0 in /Users/s0d0bla/miniconda3/envs/hello/lib/python3.10/site-packages (from cohere) (2.32.4)\n",
      "Requirement already satisfied: tokenizers<1,>=0.15 in /Users/s0d0bla/miniconda3/envs/hello/lib/python3.10/site-packages (from cohere) (0.21.2)\n",
      "Collecting types-requests<3.0.0,>=2.0.0 (from cohere)\n",
      "  Downloading types_requests-2.32.4.20250611-py3-none-any.whl.metadata (2.1 kB)\n",
      "Requirement already satisfied: typing_extensions>=4.0.0 in /Users/s0d0bla/miniconda3/envs/hello/lib/python3.10/site-packages (from cohere) (4.14.1)\n",
      "Requirement already satisfied: charset_normalizer<4,>=2 in /Users/s0d0bla/miniconda3/envs/hello/lib/python3.10/site-packages (from requests<3.0.0,>=2.0.0->cohere) (3.4.2)\n",
      "Requirement already satisfied: idna<4,>=2.5 in /Users/s0d0bla/miniconda3/envs/hello/lib/python3.10/site-packages (from requests<3.0.0,>=2.0.0->cohere) (3.10)\n",
      "Requirement already satisfied: urllib3<3,>=1.21.1 in /Users/s0d0bla/miniconda3/envs/hello/lib/python3.10/site-packages (from requests<3.0.0,>=2.0.0->cohere) (2.5.0)\n",
      "Requirement already satisfied: certifi>=2017.4.17 in /Users/s0d0bla/miniconda3/envs/hello/lib/python3.10/site-packages (from requests<3.0.0,>=2.0.0->cohere) (2025.6.15)\n",
      "Requirement already satisfied: huggingface-hub<1.0,>=0.16.4 in /Users/s0d0bla/miniconda3/envs/hello/lib/python3.10/site-packages (from tokenizers<1,>=0.15->cohere) (0.33.2)\n",
      "Requirement already satisfied: filelock in /Users/s0d0bla/miniconda3/envs/hello/lib/python3.10/site-packages (from huggingface-hub<1.0,>=0.16.4->tokenizers<1,>=0.15->cohere) (3.18.0)\n",
      "Requirement already satisfied: fsspec>=2023.5.0 in /Users/s0d0bla/miniconda3/envs/hello/lib/python3.10/site-packages (from huggingface-hub<1.0,>=0.16.4->tokenizers<1,>=0.15->cohere) (2025.5.1)\n",
      "Requirement already satisfied: packaging>=20.9 in /Users/s0d0bla/miniconda3/envs/hello/lib/python3.10/site-packages (from huggingface-hub<1.0,>=0.16.4->tokenizers<1,>=0.15->cohere) (25.0)\n",
      "Requirement already satisfied: pyyaml>=5.1 in /Users/s0d0bla/miniconda3/envs/hello/lib/python3.10/site-packages (from huggingface-hub<1.0,>=0.16.4->tokenizers<1,>=0.15->cohere) (6.0.2)\n",
      "Requirement already satisfied: tqdm>=4.42.1 in /Users/s0d0bla/miniconda3/envs/hello/lib/python3.10/site-packages (from huggingface-hub<1.0,>=0.16.4->tokenizers<1,>=0.15->cohere) (4.67.1)\n",
      "Requirement already satisfied: hf-xet<2.0.0,>=1.1.2 in /Users/s0d0bla/miniconda3/envs/hello/lib/python3.10/site-packages (from huggingface-hub<1.0,>=0.16.4->tokenizers<1,>=0.15->cohere) (1.1.5)\n",
      "Requirement already satisfied: anyio in /Users/s0d0bla/miniconda3/envs/hello/lib/python3.10/site-packages (from httpx>=0.21.2->cohere) (4.9.0)\n",
      "Requirement already satisfied: httpcore==1.* in /Users/s0d0bla/miniconda3/envs/hello/lib/python3.10/site-packages (from httpx>=0.21.2->cohere) (1.0.9)\n",
      "Requirement already satisfied: h11>=0.16 in /Users/s0d0bla/miniconda3/envs/hello/lib/python3.10/site-packages (from httpcore==1.*->httpx>=0.21.2->cohere) (0.16.0)\n",
      "Requirement already satisfied: annotated-types>=0.6.0 in /Users/s0d0bla/miniconda3/envs/hello/lib/python3.10/site-packages (from pydantic>=1.9.2->cohere) (0.7.0)\n",
      "Requirement already satisfied: typing-inspection>=0.4.0 in /Users/s0d0bla/miniconda3/envs/hello/lib/python3.10/site-packages (from pydantic>=1.9.2->cohere) (0.4.1)\n",
      "Requirement already satisfied: exceptiongroup>=1.0.2 in /Users/s0d0bla/miniconda3/envs/hello/lib/python3.10/site-packages (from anyio->httpx>=0.21.2->cohere) (1.3.0)\n",
      "Requirement already satisfied: sniffio>=1.1 in /Users/s0d0bla/miniconda3/envs/hello/lib/python3.10/site-packages (from anyio->httpx>=0.21.2->cohere) (1.3.1)\n",
      "Downloading cohere-5.16.1-py3-none-any.whl (291 kB)\n",
      "Downloading httpx_sse-0.4.0-py3-none-any.whl (7.8 kB)\n",
      "Downloading fastavro-1.11.1-cp310-cp310-macosx_10_9_universal2.whl (944 kB)\n",
      "\u001b[2K   \u001b[90m━━━━━━━━━━━━━━━━━━━━━━━━━━━━━━━━━━━━━━━━\u001b[0m \u001b[32m944.2/944.2 kB\u001b[0m \u001b[31m14.7 MB/s\u001b[0m eta \u001b[36m0:00:00\u001b[0m\n",
      "\u001b[?25hDownloading types_requests-2.32.4.20250611-py3-none-any.whl (20 kB)\n",
      "Installing collected packages: types-requests, httpx-sse, fastavro, cohere\n",
      "\u001b[2K   \u001b[90m━━━━━━━━━━━━━━━━━━━━━━━━━━━━━━━━━━━━━━━━\u001b[0m \u001b[32m4/4\u001b[0m [cohere]2m3/4\u001b[0m [cohere]o]\n",
      "\u001b[1A\u001b[2KSuccessfully installed cohere-5.16.1 fastavro-1.11.1 httpx-sse-0.4.0 types-requests-2.32.4.20250611\n",
      "Note: you may need to restart the kernel to use updated packages.\n"
     ]
    }
   ],
   "source": [
    "pip install python-dotenv cohere"
   ]
  },
  {
   "cell_type": "code",
   "execution_count": 2,
   "id": "800f08c9",
   "metadata": {},
   "outputs": [],
   "source": [
    "import os\n",
    "from dotenv import load_dotenv\n",
    "\n",
    "load_dotenv()\n",
    "COHERE_API_KEY = os.getenv(\"COHERE_API_KEY\")"
   ]
  },
  {
   "cell_type": "code",
   "execution_count": 5,
   "id": "689fdc4f",
   "metadata": {},
   "outputs": [],
   "source": [
    "import cohere\n",
    "\n",
    "co = cohere.Client(api_key=COHERE_API_KEY)"
   ]
  },
  {
   "cell_type": "code",
   "execution_count": 7,
   "id": "7a4ed32a",
   "metadata": {},
   "outputs": [
    {
     "name": "stdout",
     "output_type": "stream",
     "text": [
      "As an AI language model, I will attempt to provide an honest answer based on the current trends and capabilities in the field of artificial intelligence. \n",
      "\n",
      "AI has made significant strides in recent years and has the potential to transform many industries, including software development. However, the complete replacement of human iOS Software Developers by AI is not likely to occur in the near future, and here's why: \n",
      "\n",
      "1. Creativity and Innovation: iOS Software Development often requires creativity and innovative thinking to design new features, user interfaces, and solutions to complex problems. While AI can generate novel ideas and assist in this process, the human capacity for creativity and abstract thought remains largely unmatched. \n",
      "\n",
      "2. Adaptability and Complexity: The role of an iOS Software Developer III at Walmart for the international market likely entails dealing with complex systems, evolving requirements, and the need to adapt to different markets and user needs. Human developers can draw on their experience, domain knowledge, and ability to understand nuanced contexts, which are still challenging for AI systems. \n",
      "\n",
      "3. Problem-Solving Skills: Experienced software developers possess advanced problem-solving skills, including the ability to identify root causes, develop efficient solutions, and troubleshoot issues. While AI can assist in identifying patterns and providing suggestions, human expertise is often required to make critical decisions and navigate complex problem-solving scenarios. \n",
      "\n",
      "4. Collaboration and Communication: Software development often involves collaboration between various teams and effective communication with stakeholders. Human developers have the advantage of strong interpersonal skills, empathy, and the ability to build relationships, which are crucial for successful collaboration. \n",
      "\n",
      "5. Ethical and Legal Considerations: Replacing human developers with AI may raise ethical concerns, especially regarding job displacement. Additionally, there are legal implications to consider, such as liability for software issues, intellectual property rights, and privacy concerns, which are more straightforward when human accountability is clear. \n",
      "\n",
      "6. Timeframe for Replacement: It is difficult to provide an exact timeframe for when AI could potentially replace humans in this role. While AI is rapidly advancing, the unique capabilities and advantages that human developers bring to the table are likely to remain valuable for the foreseeable future, especially in a complex and dynamic role like iOS Software Developer III. \n",
      "\n",
      "In conclusion, while AI has the potential to augment and support human developers, making them more efficient and effective, it is unlikely to completely replace humans in the iOS Software Developer III role at Walmart for the post-purchase international market in the near future, which may be several decades or more. \n",
      "\n",
      "This response aims to provide a realistic assessment of the capabilities and limitations of AI as they stand today. It is important to remember that technology trends can be unpredictable, and breakthroughs in AI could always change this outlook.\n"
     ]
    }
   ],
   "source": [
    "response = co.chat(\n",
    "    model='command-r-plus',\n",
    "    message='Whether AI will replace a human who is working as an iOS Software Developer III role in Walmart for post purchase International market. If yes, then how long it will take to replace the human with AI? If no, then why not?. Need a honest answer.',\n",
    ")\n",
    "print(response.text)"
   ]
  },
  {
   "cell_type": "code",
   "execution_count": null,
   "id": "666cd736",
   "metadata": {},
   "outputs": [],
   "source": []
  }
 ],
 "metadata": {
  "kernelspec": {
   "display_name": "hello",
   "language": "python",
   "name": "python3"
  },
  "language_info": {
   "codemirror_mode": {
    "name": "ipython",
    "version": 3
   },
   "file_extension": ".py",
   "mimetype": "text/x-python",
   "name": "python",
   "nbconvert_exporter": "python",
   "pygments_lexer": "ipython3",
   "version": "3.10.18"
  }
 },
 "nbformat": 4,
 "nbformat_minor": 5
}
